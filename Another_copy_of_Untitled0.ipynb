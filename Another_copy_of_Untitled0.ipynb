{
  "nbformat": 4,
  "nbformat_minor": 0,
  "metadata": {
    "colab": {
      "provenance": [],
      "authorship_tag": "ABX9TyOaCpn919l9DsWlNoM5vGYT",
      "include_colab_link": true
    },
    "kernelspec": {
      "name": "python3",
      "display_name": "Python 3"
    },
    "language_info": {
      "name": "python"
    }
  },
  "cells": [
    {
      "cell_type": "markdown",
      "metadata": {
        "id": "view-in-github",
        "colab_type": "text"
      },
      "source": [
        "<a href=\"https://colab.research.google.com/github/py241012463/CEE2/blob/main/Another_copy_of_Untitled0.ipynb\" target=\"_parent\"><img src=\"https://colab.research.google.com/assets/colab-badge.svg\" alt=\"Open In Colab\"/></a>"
      ]
    },
    {
      "cell_type": "code",
      "execution_count": null,
      "metadata": {
        "colab": {
          "base_uri": "https://localhost:8080/"
        },
        "id": "GzAm33XpVsve",
        "outputId": "4d248bb6-8c46-4091-90a9-f6042ea00004"
      },
      "outputs": [
        {
          "output_type": "stream",
          "name": "stdout",
          "text": [
            "Hello world\n",
            "5 e maior do que 2\n",
            "\n",
            " 5 \n",
            "\n",
            "Python\n"
          ]
        }
      ],
      "source": [
        "#para strings, print (\" \")\n",
        "print(\"Hello world\")\n",
        "#estruturas de código identificadas por identação (geralmente, quatro espaços ou um tab)\n",
        "#observe que o aninhamento de comandos exige dois pontos\n",
        "#e tudo que estiver identado, está aninhado\n",
        "if 5>2:\n",
        "  print(\"5 e maior do que 2\")\n",
        "# a atribuição de valores às variáveis usa o sinal de =\n",
        "x = 5\n",
        "nome = \"Python\"\n",
        "#para saltar uma linha, utilize \"\\n\" separado por vírgula\n",
        "print(\"\\n\", x, \"\\n\")\n",
        "print(nome)\n",
        "\n",
        "\n",
        "\n"
      ]
    },
    {
      "cell_type": "code",
      "source": [
        "Exercício 1:\n",
        "Crie um código que escreva \"Olá, seu primeiro nome\"."
      ],
      "metadata": {
        "id": "c76Imh6mXxHH"
      },
      "execution_count": null,
      "outputs": []
    },
    {
      "cell_type": "code",
      "source": [
        "nome = \"Claytton L. de Oliveira\"\n",
        "print (\"\\n\", \"Olá, \", nome, \".\")\n",
        "#para evitar que o ponto se separe do nome, concatene 'nome' e '.' com o sinal '+'\n",
        "print(\"\\n\",nome+\".\")\n",
        "#o \"\\n\" é interpretado como string\n",
        "print(\"\\n\"+\"Nome =\", nome)"
      ],
      "metadata": {
        "colab": {
          "base_uri": "https://localhost:8080/"
        },
        "id": "w7soDiw3Xya7",
        "outputId": "ad69b734-5ee5-4b55-8ba4-56ba638894cb"
      },
      "execution_count": null,
      "outputs": [
        {
          "output_type": "stream",
          "name": "stdout",
          "text": [
            "\n",
            " Olá,  Claytton L. de Oliveira .\n",
            "\n",
            " Claytton L. de Oliveira.\n",
            "\n",
            "Nome = Claytton L. de Oliveira\n"
          ]
        }
      ]
    },
    {
      "cell_type": "code",
      "source": [
        "\n",
        "#Você pode forçar um número a assumir determinado tipo\n",
        "x = 20             # Inteiro com valor 20\n",
        "y = int(1024)      # Inteiro com valor 1024\n",
        "z = int('1234')    # Inteiro com valor 1234. Converte a string para o tipo de dado requerido\n",
        "w = int(10.5)      # vai converter '10.5' para inteiro\n",
        "k = int(10.9)      # vai converter '10.9' para inteiro tomando só a parte inteira. Não faz arredondamento\n",
        "print(x)\n",
        "print(y)\n",
        "print(z)\n",
        "print(w)\n",
        "print (k)\n",
        "print(type(x))     #imprime a classe do número\n",
        "t=1+2j             #é número complexo. O 'j' indica isso\n",
        "v=1j               #é preciso indicar a quantidade de 'j', no caso, '1'\n",
        "print(t, type(t),\"\\n\", v, type(v))"
      ],
      "metadata": {
        "colab": {
          "base_uri": "https://localhost:8080/"
        },
        "id": "tLs8DtOcZiSH",
        "outputId": "1b10f466-5050-4ffb-94a6-77801169fa89"
      },
      "execution_count": null,
      "outputs": [
        {
          "output_type": "stream",
          "name": "stdout",
          "text": [
            "20\n",
            "1024\n",
            "1234\n",
            "10\n",
            "10\n",
            "<class 'int'>\n",
            "(1+2j) <class 'complex'> \n",
            " 1j <class 'complex'>\n"
          ]
        }
      ]
    },
    {
      "cell_type": "code",
      "source": [
        "#Vc pode definir string com \"\" ou pela função 'str()'\n",
        "x = \"Hello World!\"    # String \"Hello World!\"\n",
        "y = str(20)           # String \"20\"\n",
        "z = str(3.1415)       # String \"3.1415\"\n",
        "print(x)    # Exibe \"Hello World!\"\n",
        "print(y)    # Exibe \"20\"\n",
        "print(z)    # Exibe \"3.1415\"\n",
        "#O mesmo para variáveis do tipo lógico\n",
        "x = False      # Booleano com valor False\n",
        "y = bool(1)    # Booleano com valor True\n",
        "z = (3 > 5)    # Booleano com valor False\n",
        "print(x)    # Exibe False\n",
        "print(y)    # Exibe True\n",
        "print(z)    # Exibe False\n",
        "print(type(x))    # Exibe \"<class 'bool'> indicando que é booleano.\n",
        "\n"
      ],
      "metadata": {
        "colab": {
          "base_uri": "https://localhost:8080/"
        },
        "id": "ccVtdnKdaZLG",
        "outputId": "02b6dfae-1081-4b3c-fa41-b7f11fb5e14e"
      },
      "execution_count": null,
      "outputs": [
        {
          "output_type": "stream",
          "name": "stdout",
          "text": [
            "Hello World!\n",
            "20\n",
            "3.1415\n",
            "False\n",
            "True\n",
            "False\n",
            "<class 'bool'>\n"
          ]
        }
      ]
    },
    {
      "cell_type": "markdown",
      "source": [
        "Exercício 1: Convertendo entre int e float\n",
        "Crie três variáveis: uma do tipo int, uma do tipo float e uma do tipo bool. Exiba os valores de cada uma dessas variáveis e o tipo delas. Em seguida, converta as variáveis de acordo com as instruções abaixo:\n",
        "\n",
        "Converta o número inteiro para float e exiba o resultado.\n",
        "Converta o número decimal (float) para int e exiba o resultado.\n",
        "Tente converter o valor booleano para int e float, e observe os resultados."
      ],
      "metadata": {
        "id": "cg23C_vrcb2a"
      }
    },
    {
      "cell_type": "code",
      "source": [
        "x = int (10.5)\n",
        "y = float (2)\n",
        "z = bool (-1)         #na conversão para boolean, 0 é 'false', todo o resto, 'true'\n",
        "t = bool (\"NaN\")      #mas se, em lugar da string, for colocado apenas 'NaN', gera erro porque NaN é indefinido.\n",
        "print (\"x =\", x, type(x))\n",
        "print (\"y =\", y, type(y))\n",
        "print (\"z =\", z, type(z))\n",
        "print (\"t =\", t, type(t))\n",
        "x = float(x)\n",
        "print (\"x =\", x, type(x))\n",
        "print(\"y =\", y, type(y)) #assim y é convertido para int apenas para impressão, mas seu tipo permanece intacto\n",
        "y = int (y)              #com a atribuição de tipo int, a variável tem seu tipo alterado\n",
        "print(\"y =\", y, type(y))\n",
        "z = bool (z)\n",
        "print(\"z =\", z, type(z))"
      ],
      "metadata": {
        "colab": {
          "base_uri": "https://localhost:8080/"
        },
        "id": "152UNka7cc5Z",
        "outputId": "e1bcdb2f-628a-40e5-ef06-73c3033e981a"
      },
      "execution_count": null,
      "outputs": [
        {
          "output_type": "stream",
          "name": "stdout",
          "text": [
            "x = 10 <class 'int'>\n",
            "y = 2.0 <class 'float'>\n",
            "z = True <class 'bool'>\n",
            "t = True <class 'bool'>\n",
            "x = 10.0 <class 'float'>\n",
            "y = 2.0 <class 'float'>\n",
            "y = 2 <class 'int'>\n",
            "z = True <class 'bool'>\n"
          ]
        }
      ]
    },
    {
      "cell_type": "markdown",
      "source": [
        "Exercício 2: Operações básicas com int e float\n",
        "Crie duas variáveis: uma contendo um número inteiro igual a 5 (num1 = 5) e outra contendo um número decimal float igual a 2.5 (num2 = 2.5). Em seguida, execute as seguintes operações e printe o resultado:\n",
        "\n",
        "Adição (num1 + num2)\n",
        "Subtração (num1 - num2)\n",
        "Multiplicação (num1 * num2)\n",
        "Divisão (num1 / num2)"
      ],
      "metadata": {
        "id": "U2xgXyy4hNXA"
      }
    },
    {
      "cell_type": "code",
      "source": [
        "num1 = 5\n",
        "num2 = 2.5\n",
        "print(\"num1 + num2 =\", num1+num2)\n",
        "print(\"num1 - num2 =\", num1-num2)\n",
        "print(\"num1 * num2 =\", num1*num2)\n",
        "print(\"num1 / num2 =\", num1/num2)"
      ],
      "metadata": {
        "colab": {
          "base_uri": "https://localhost:8080/"
        },
        "id": "y-kNXDS7hQMG",
        "outputId": "e290745c-5bb3-4ceb-c3d9-36e5e9e392b2"
      },
      "execution_count": null,
      "outputs": [
        {
          "output_type": "stream",
          "name": "stdout",
          "text": [
            "num1 + num2 = 7.5\n",
            "num1 - num2 = 2.5\n",
            "num1 * num2 = 12.5\n",
            "num1 / num2 = 2.0\n"
          ]
        }
      ]
    },
    {
      "cell_type": "markdown",
      "source": [
        "Exercício 3: Calculando a área de um círculo\n",
        "Crie um programa que calcule a área de um círculo, dada a fórmula:  A=π∗r2 . Atribua um valor para o raio (como float) e mostre o resultado da área. Utilize π = 3.14159.\n",
        "\n",
        "O resultado deve ser apresentado como \"A área do círculo é: {area}\""
      ],
      "metadata": {
        "id": "ZNRzua3thu5a"
      }
    },
    {
      "cell_type": "code",
      "source": [
        "pi=3.14159\n",
        "r=float(1)\n",
        "A = pi*r**2\n",
        "print (\"A área é =\", A)\n",
        "#a divisão inteira retorna a parte inteira da divisão\n",
        "print (\"7//2 =\", 7//2)\n",
        "#o módulo retorna o resto\n",
        "print (\"7%2 =\", 7%2)\n",
        "#observe que ainda\n",
        "x=10\n",
        "print (\"x =\", x)\n",
        "x+=5\n",
        "print (\"x+=5 ->\", \"x =\", x)"
      ],
      "metadata": {
        "id": "6hUHOIWdhxN0",
        "colab": {
          "base_uri": "https://localhost:8080/"
        },
        "outputId": "6d30517a-d0ce-4e8c-e7e6-c8bcaf05cf6e"
      },
      "execution_count": null,
      "outputs": [
        {
          "output_type": "stream",
          "name": "stdout",
          "text": [
            "A área é = 3.14159\n",
            "7//2 = 3\n",
            "7%2 = 1\n",
            "x = 10\n",
            "x+=5 -> x = 15\n"
          ]
        }
      ]
    },
    {
      "cell_type": "code",
      "source": [
        "#Quando se importa um módulo, como 'math', as funções do módulo, quando chamadas, devem ser precedidas do nome do módulo\n",
        "import math\n",
        "print(math.sqrt(16))   # 4.0\n",
        "print(math.pow(2, 3))  # 2**3 = 8.0\n",
        "print(math.exp(1))     #Exponencial (equivalente e^x)\n",
        "print(math.log(10))    #logaritmo natural de x\n",
        "print(math.log(10, 10))#math.log(x, b) = logaritmo x na base b\n",
        "print(math.factorial(5))  # 120\n",
        "print(abs(-10))           # 10 essa função não é do módulo math\n",
        "print(math.floor(2.9))  # 2. Arredondamento para baixo\n",
        "print(math.ceil(2.1))   # 3. Arrendondamento para cima"
      ],
      "metadata": {
        "colab": {
          "base_uri": "https://localhost:8080/"
        },
        "id": "ce7i61XAkoZ6",
        "outputId": "e8c95cc4-cef7-439f-978c-4eb5bfa091d4"
      },
      "execution_count": null,
      "outputs": [
        {
          "output_type": "stream",
          "name": "stdout",
          "text": [
            "4.0\n",
            "8.0\n",
            "2.718281828459045\n",
            "2.302585092994046\n",
            "1.0\n",
            "120\n",
            "10\n",
            "2\n",
            "3\n"
          ]
        },
        {
          "output_type": "execute_result",
          "data": {
            "text/plain": [
              "5.7"
            ]
          },
          "metadata": {},
          "execution_count": 16
        }
      ]
    },
    {
      "cell_type": "code",
      "source": [
        "#As funções abaixo, se rodadas em sequência, só vão apresentar o resultado da última linha, 'round(5.7, 1)'\n",
        "round(3.14159, 2)  # Retorna 3.14\n",
        "round(5.7)  # Retorna 6\n",
        "round(5.7, 1)  # Retorna 6\n",
        "print(round(3.14159, 2))\n",
        "print(round(5.7))\n",
        "print(round(5.7, 1))\n"
      ],
      "metadata": {
        "colab": {
          "base_uri": "https://localhost:8080/"
        },
        "id": "hrFmoJtipjUH",
        "outputId": "24c6274a-fe96-4d41-8c19-5b0fb2446352"
      },
      "execution_count": null,
      "outputs": [
        {
          "output_type": "stream",
          "name": "stdout",
          "text": [
            "3.14\n",
            "6\n",
            "5.7\n"
          ]
        }
      ]
    },
    {
      "cell_type": "code",
      "source": [
        "min(3, 1, 5)          #Retorna 1, o menor valor da sequência\n",
        "min([10, 20, -5, 4])  #Retorna -5, o menor valor do conjunto de argumentos\n",
        "divmod(10, 3)         #Retorna (3, 1) = retorna o quociente e o resto da divisão de uma tupla\n",
        "complex (10,3)        #Retorna o complexo '10+3j'\n",
        "#lembrando, mais uma vez, que em uma sequência de comandos, o comando retornado é sempre o último"
      ],
      "metadata": {
        "colab": {
          "base_uri": "https://localhost:8080/"
        },
        "id": "BYTlad_ou3ug",
        "outputId": "7227934d-07a3-411a-f4cd-e266c7a7d65e"
      },
      "execution_count": null,
      "outputs": [
        {
          "output_type": "execute_result",
          "data": {
            "text/plain": [
              "(10+3j)"
            ]
          },
          "metadata": {},
          "execution_count": 22
        }
      ]
    },
    {
      "cell_type": "markdown",
      "source": [
        "Exemplo: Cálculo de Área e Perímetro\n",
        "Escreva um programa que receba o raio de um círculo e calcule a área e o perímetro. Lembrando as equações são\n",
        "Area=πr2Perimetro=2πr\n",
        "\n",
        "Utilize a constante math.pi para o valor de  π ."
      ],
      "metadata": {
        "id": "-3e-X5YWv9OT"
      }
    },
    {
      "cell_type": "code",
      "source": [
        "import math\n",
        "#a função input() escreve o pedido do raio e captura o valor digitado\n",
        "#a função float pega o valor capturado por input(), transforma em tipo 'float' e atribui à variável raio\n",
        "raio=float(input(\"Digite o raio do círculo: \"))\n",
        "area = math.pi * math.pow(raio,2)\n",
        "perimetro = 2*math.pi*raio\n",
        "#f\" \" é uma f-string, forma mais concisa de formatar uma string\n",
        "#{area:.2f} retorna o valor da 'area' com dois pontos decimais '.2' em ponto flutuante, o último 'f'\n",
        "print(f\"Area: {area:.2f}\") # então é (f\"texto: {argumento: formatação}\"), que pode ser impresso de modo mais simples com\n",
        "print(\"Area: \", round(area,2))\n",
        "print(f\"Perímetro: {perimetro:.2f}\")"
      ],
      "metadata": {
        "colab": {
          "base_uri": "https://localhost:8080/"
        },
        "id": "jJD_rldhv-lT",
        "outputId": "10217cb8-18b4-4ffb-89bf-5cf92ccc75e5"
      },
      "execution_count": null,
      "outputs": [
        {
          "output_type": "stream",
          "name": "stdout",
          "text": [
            "Digite o raio do círculo: 2\n",
            "Area: 12.57\n",
            "Area:  12.57\n",
            "Perímetro: 12.57\n"
          ]
        }
      ]
    },
    {
      "cell_type": "markdown",
      "source": [
        "Exercício 1: Conversor de Temperatura\n",
        "Crie um programa que converta uma temperatura de graus Celsius para Fahrenheit.\n",
        "\n",
        "A fórmula de conversão é:\n",
        "Fahrenheit=Celsius×95+32\n",
        "\n",
        "Obs: para receber a temperatura em Celsius do usuário, utilize o comando:\n",
        "\n",
        "* `celsius = float(input(\"Digite a temperatura em Celsius: \"))`"
      ],
      "metadata": {
        "id": "NCJNR8itz9EE"
      }
    },
    {
      "cell_type": "code",
      "source": [
        "celsius = float(input(\"Digite a temperatura em Celsius: \"))\n",
        "farenheit = celsius*9/5+32\n",
        "print(\"A temperatura de \", celsius, \"ºC em Farenheit é\", round(farenheit,3))"
      ],
      "metadata": {
        "colab": {
          "base_uri": "https://localhost:8080/"
        },
        "id": "6wWhbiglz91D",
        "outputId": "0dd8ccb9-c301-438f-b8bf-634a69e2312c"
      },
      "execution_count": null,
      "outputs": [
        {
          "output_type": "stream",
          "name": "stdout",
          "text": [
            "Digite a temperatura em Celsius: 36.7\n",
            "A temperatura de  36.7 ºC em Farenheit é 98.06\n"
          ]
        }
      ]
    },
    {
      "cell_type": "markdown",
      "source": [
        "Exercício 2: Calculadora de IMC\n",
        "Crie um programa que recebe calcula o Índice de Massa Corporal (IMC). Para isto você deve receber do usuário o peso e a altura.\n",
        "\n",
        "A fórmula do IMC é dada por:\n",
        "$$ IMC=peso/altura2,$$\n",
        "em que peso é dado em kg e a altura em metros.\n",
        "\n",
        "Obs: utilize os seguintes comandos para ser o peso e a altura:\n",
        "\n",
        "* `peso = float(input(\"Digite o peso em quilogramas: \"))`\n",
        "* `altura = float(input(\"Digite a altura em metros: \"))`\n"
      ],
      "metadata": {
        "id": "Nv5oMztk1a5K"
      }
    },
    {
      "cell_type": "code",
      "source": [
        "peso = float(input(\"Digite o peso em kg: \"))\n",
        "altura = float(input(\"Digite a altura em metros: \"))\n",
        "IMC = peso/math.pow(altura, 2)\n",
        "print(\"O IMC é: \", round(IMC,2))"
      ],
      "metadata": {
        "colab": {
          "base_uri": "https://localhost:8080/"
        },
        "id": "slFC3J-d1t5b",
        "outputId": "3beff605-4e21-4aeb-8d82-28d00b0e99c5"
      },
      "execution_count": null,
      "outputs": [
        {
          "output_type": "stream",
          "name": "stdout",
          "text": [
            "Digite o peso em kg: 73\n",
            "Digite a altura em metros: 1.72\n",
            "O IMC é:  24.68\n"
          ]
        }
      ]
    },
    {
      "cell_type": "markdown",
      "source": [
        "As listas são criadas usando [] ou list(). Veja os exemplos abaixo."
      ],
      "metadata": {
        "id": "S8Isgs9v22Of"
      }
    },
    {
      "cell_type": "code",
      "source": [
        "v1 = [\"Fortran\", \"Python\", \"R\", \"Python\"]        #então, a lista é definida por [ ] ou list (())\n",
        "v2 = list((\"Fortran\", \"Python\", \"R\", \"Python\"))  #com argumentos isolados por aspas duplas e separados por vírgula\n",
        "print(\"\\n\", v1, \"\\n\")\n",
        "print (\"v2= \",v2)\n",
        "print (\"v2[1] =\",v2[1]) #acessa a segunda posição da lista\n",
        "print (\"v2[-2] =\",v2[-2]) #acessa a segunda posição da lista reversa, já que v2[0] é a primeira posição da lista\n",
        "v1[1]=\"C++\"               #altera o segundo elemento da lista\n",
        "print(v1)\n",
        "v1.append(\"Cobol\")        #acrescenta o dado no final da lista\n",
        "print(v1)\n",
        "v1.clear()                #limpa a lista\n",
        "print(v1)\n",
        "v2.count(\"R\")             #conta quantas vezes \"R\" aparece na lista\n",
        "print(v2.count(\"R\"))\n",
        "v3=v2.extend([\"Java\",\"C\"])   #esse comando não funciona porque o método extend() altera uma lista, mas não retorna uma lista\n",
        "v2.extend([\"Java\",\"C\"])      #modifica a lista v2\n",
        "v3=v2                        #cria a lista v3\n",
        "print(v3)\n",
        "print (v3.index(\"Python\"))   #retorna apenas a primeira posição em que \"Python\" for encontrada\n"
      ],
      "metadata": {
        "colab": {
          "base_uri": "https://localhost:8080/"
        },
        "id": "XOWErI3C26OD",
        "outputId": "0633641e-b01e-44ce-f58f-8147b9b11d18"
      },
      "execution_count": null,
      "outputs": [
        {
          "output_type": "stream",
          "name": "stdout",
          "text": [
            "\n",
            " ['Fortran', 'Python', 'R', 'Python'] \n",
            "\n",
            "v2=  ['Fortran', 'Python', 'R', 'Python']\n",
            "v2[1] = Python\n",
            "v2[-2] = R\n",
            "['Fortran', 'C++', 'R', 'Python']\n",
            "['Fortran', 'C++', 'R', 'Python', 'Cobol']\n",
            "[]\n",
            "1\n",
            "['Fortran', 'Python', 'R', 'Python', 'Java', 'C', 'Java', 'C']\n",
            "1\n"
          ]
        }
      ]
    },
    {
      "cell_type": "markdown",
      "source": [
        "Para encontrar o número de vezes que a palavra \"Python\" aparece na lista, podemos usar o seguinte código:"
      ],
      "metadata": {
        "id": "FjWvR7C-HmO8"
      }
    },
    {
      "cell_type": "code",
      "source": [
        "#Para encontrar o número de vezes que a palavra \"Python\" aparece em uma lista, podemos usar o seguinte código:\n",
        "v = list((\"Fortran\", \"Python\", \"R\", \"Python\", \"Java\", \"C\", \"Java\", \"C\"))\n",
        "elemento_procurado = \"Python\"\n",
        "indices = []\n",
        "#preciso do dado para comparação com os da lista, no caso, elemento_procurado \"Python\"\n",
        "#criei uma lista vazia para acolher os índices onde a palavra \"Python\" for encontrada\n",
        "for i, valor in enumerate (v): #a função enumerate() retorna o índice do dado para 'i' e o valor do dado (a palavra correspondente ao índice 'i') para 'valor'\n",
        "    if valor == elemento_procurado:   # se a palavra correspondente ao índice 'i' for igual ao elemento procurado a lista 'indices' recebe o valor de 'i'\n",
        "      indices.append(i)               # se não, retorna o loop até terminar todos os elementos 'i' do vetor 'v'\n",
        "print (\"Índices: \",indices)\n",
        "#Para inserir um dado em uma lista, pode-se usar insert(posicao, valor)\n",
        "print(v)\n",
        "v.insert(0,\"Assembler\")\n",
        "print (v)\n",
        "#para remover um item:\n",
        "v.remove(\"Fortran\")\n",
        "print (v)\n",
        "#para inverter a ordem da lista:\n",
        "v.reverse()\n",
        "print (v)\n",
        "#para ordenar alfabeticamente:\n",
        "v.sort()\n",
        "print (v)\n",
        "#para remover um item da segunda posição da lista:\n",
        "v.pop(1)\n",
        "print (v)\n",
        "#se não for apresentado argumento, remove o último\n",
        "v.pop()\n",
        "print (v)"
      ],
      "metadata": {
        "colab": {
          "base_uri": "https://localhost:8080/"
        },
        "id": "pMNjlW3eHspu",
        "outputId": "3b1f850d-9031-43d8-98c4-1a42d8622538"
      },
      "execution_count": null,
      "outputs": [
        {
          "output_type": "stream",
          "name": "stdout",
          "text": [
            "Índices:  [1, 3]\n",
            "['Fortran', 'Python', 'R', 'Python', 'Java', 'C', 'Java', 'C']\n",
            "['Assembler', 'Fortran', 'Python', 'R', 'Python', 'Java', 'C', 'Java', 'C']\n",
            "['Assembler', 'Python', 'R', 'Python', 'Java', 'C', 'Java', 'C']\n",
            "['C', 'Java', 'C', 'Java', 'Python', 'R', 'Python', 'Assembler']\n",
            "['Assembler', 'C', 'C', 'Java', 'Java', 'Python', 'Python', 'R']\n",
            "['Assembler', 'C', 'Java', 'Java', 'Python', 'Python', 'R']\n",
            "['Assembler', 'C', 'Java', 'Java', 'Python', 'Python']\n"
          ]
        }
      ]
    },
    {
      "cell_type": "markdown",
      "source": [
        "Exercício 1: Modificando uma lista\n",
        "Dada a lista frutas = [\"maçã\", \"banana\", \"laranja\", \"uva\"], faça o seguinte:\n",
        "\n",
        "Substitua a fruta \"banana\" por \"abacaxi\".\n",
        "Adicione a fruta \"morango\" ao final da lista.\n",
        "Exiba a lista resultante.\n",
        "Coloque a lista em ordem alfabética.\n",
        "Substitua a fruta \"maçã\" por \"pera\".\n",
        "Exiba a lista e verifique se ainda esta ordenada. Caso não esteja, então ordene e exiba novamente."
      ],
      "metadata": {
        "id": "m4h404qHL7Eq"
      }
    },
    {
      "cell_type": "code",
      "source": [
        "frutas = list((\"maçã\", \"banana\", \"laranja\", \"uva\"))\n",
        "print(frutas)\n",
        "#em uma lista, list[] requer como argumento uma posição da lista\n",
        "frutas[frutas.index(\"banana\")] = \"abacaxi\" #eu poderia ter especificado a posição de \"banana\": frutas[1] = \"abacaxi\"\n",
        "print(frutas)\n",
        "frutas.append(\"morango\")\n",
        "print(frutas)\n",
        "print(frutas.sort()) #não funciona porque o método sort() modifica a lista, mas não retorna uma lista\n",
        "frutas.sort()\n",
        "print(frutas)\n",
        "frutas.reverse()\n",
        "print(frutas)\n",
        "frutas[frutas.index(\"maçã\")] = \"pera\"\n",
        "print (frutas)\n",
        "frutas.sort()\n",
        "print(frutas)"
      ],
      "metadata": {
        "colab": {
          "base_uri": "https://localhost:8080/"
        },
        "id": "n6o6hXBHL-4h",
        "outputId": "a491868a-6aa6-4f81-86b2-3926099a3fd5"
      },
      "execution_count": null,
      "outputs": [
        {
          "output_type": "stream",
          "name": "stdout",
          "text": [
            "['maçã', 'banana', 'laranja', 'uva']\n",
            "['maçã', 'abacaxi', 'laranja', 'uva']\n",
            "['maçã', 'abacaxi', 'laranja', 'uva', 'morango']\n",
            "None\n",
            "['abacaxi', 'laranja', 'maçã', 'morango', 'uva']\n",
            "['uva', 'morango', 'maçã', 'laranja', 'abacaxi']\n",
            "['uva', 'morango', 'pera', 'laranja', 'abacaxi']\n",
            "['abacaxi', 'laranja', 'morango', 'pera', 'uva']\n"
          ]
        }
      ]
    },
    {
      "cell_type": "markdown",
      "source": [
        "As tuplas pode ser criadas usando apenas vírgulas, ou () ou tuple()"
      ],
      "metadata": {
        "id": "l1CBplBjQDoV"
      }
    },
    {
      "cell_type": "code",
      "source": [
        "v0 = \"Fortran\", \"Python\", \"R\", \"Python\"\n",
        "v1 = (\"Fortran\", \"Python\", \"R\", \"Python\")\n",
        "v2 = tuple((\"Fortran\", \"Python\", \"R\", \"Python\"))\n",
        "#Os elementos de uma tupla pode ser desempacotados em um conjunto de variáveis\n",
        "frutas = (\"maçã\", \"banana\", \"cereja\")\n",
        "(verde, amarelo, vermelho) = frutas #atribui uma característica, na ordem dada, aos elementos da tupla\n",
        "#observe que a atribuição é a mesma tupla com descrição invertida\n",
        "print(frutas)\n",
        "print(verde)\n",
        "print(verde,vermelho)\n",
        "frutas = (\"maçã\", \"banana\", \"cereja\", \"morango\", \"framboesa\")\n",
        "(verde, amarelo, *vermelho) = frutas #nesse caso, verde representa maçã, amarelo rep banana e vermelho o resto\n",
        "v=print(vermelho) #Quando você usa print(vermelho), o Python exibe o conteúdo da lista vermelho na tela, mas essa ação não gera um valor que possa ser atribuído a uma variável\n",
        "print(v)\n",
        "print(v2[0:2])\n"
      ],
      "metadata": {
        "colab": {
          "base_uri": "https://localhost:8080/"
        },
        "id": "Bz2ggnovQKnz",
        "outputId": "500d32df-a6dd-4cdb-ab85-f9538c397fe8"
      },
      "execution_count": null,
      "outputs": [
        {
          "output_type": "stream",
          "name": "stdout",
          "text": [
            "('maçã', 'banana', 'cereja')\n",
            "maçã\n",
            "maçã cereja\n",
            "['cereja', 'morango', 'framboesa']\n",
            "None\n",
            "('Fortran', 'Python')\n"
          ]
        }
      ]
    },
    {
      "cell_type": "markdown",
      "source": [
        "Exercício 2: Buscando um elemento em uma tupla\n",
        "Dada a tupla frutas = (\"maçã\", \"banana\", \"laranja\", \"uva\"), encontre e exiba o índice da fruta \"laranja\"."
      ],
      "metadata": {
        "id": "44Y1TcTBXNAH"
      }
    },
    {
      "cell_type": "code",
      "source": [
        "frutas = (\"maçã\", \"banana\", \"laranja\", \"uva\")\n",
        "print(frutas.index(\"laranja\"))"
      ],
      "metadata": {
        "colab": {
          "base_uri": "https://localhost:8080/"
        },
        "id": "toHDkv18XOEs",
        "outputId": "61c94447-7acd-464c-cae5-57116536da4a"
      },
      "execution_count": null,
      "outputs": [
        {
          "output_type": "stream",
          "name": "stdout",
          "text": [
            "2\n"
          ]
        }
      ]
    },
    {
      "cell_type": "markdown",
      "source": [
        "Os conjuntos (set) são coleções desordenadas de itens únicos, o que significa que eles não mantêm uma ordem específica e não permitem elementos duplicados. São criados com { } ou set(( ))"
      ],
      "metadata": {
        "id": "k17m2yuJXsDM"
      }
    },
    {
      "cell_type": "code",
      "source": [
        "v1 = {\"Fortran\", \"Python\", \"R\", \"Python\"}\n",
        "v2 = set((\"Fortran\", \"Python\", \"R\", \"Python\"))\n",
        "s1 = {\"A\", \"B\", \"C\", \"D\", \"E\"}\n",
        "s2 = {\"A\", \"B\", \"C\"}\n",
        "s3 = {\"X\", \"Y\", \"Z\"}\n",
        "s3.add(\"W\")                           # s3 = {'X', 'W', 'Y', 'Z'}\n",
        "s3.clear()                            # s3 = {}\n",
        "s3 = s2.copy()                        # s3 = {'A', 'B', 'C'}\n",
        "s3 = s1.difference(s2)                # s3 = {'D', 'E'}\n",
        "s3.discard(\"D\")                       # s3 = {'E'}\n",
        "print(\"s2 inter s1 :\", s2.intersection(s1))  # exibe:  {\"A\", \"B\", \"C\"}\n",
        "print(s1.isdisjoint(s2))              # s1 disjunto s2? => False\n",
        "print(s1.issubset(s2))                # s1 contido s2? => False\n",
        "print(s2.issubset(s1))                # s2 contido s1? => True\n",
        "print(s1.issuperset(s2))              # s2 contido s1? => True\n",
        "s1.remove(\"C\")                        # s1 = {\"A\", \"B\", \"D\", \"E\"}\n",
        "print(s1)\n",
        "s1.update(s2)                         # s1 = {'A', 'B', 'C', 'D', 'E'}\n",
        "print(s1)"
      ],
      "metadata": {
        "colab": {
          "base_uri": "https://localhost:8080/"
        },
        "id": "BzfD_IHjXwn2",
        "outputId": "94884481-6c04-47f9-94a7-c61a2b4a5808"
      },
      "execution_count": null,
      "outputs": [
        {
          "output_type": "stream",
          "name": "stdout",
          "text": [
            "s2 inter s1 : {'B', 'A', 'C'}\n",
            "False\n",
            "False\n",
            "True\n",
            "True\n",
            "{'E', 'A', 'B', 'D'}\n",
            "{'E', 'A', 'C', 'B', 'D'}\n"
          ]
        }
      ]
    },
    {
      "cell_type": "markdown",
      "source": [],
      "metadata": {
        "id": "To1lRna3ZuZm"
      }
    },
    {
      "cell_type": "markdown",
      "source": [
        "### Exercício 3: Operações com `set`.\n",
        "\n",
        "Crie um set chamado `frutas` contendo as frutas `\"maçã\", \"banana\", \"laranja\"` e `\"uva\"` e então:\n",
        "* exiba o conteúdo;\n",
        "* adicione a fruta \"abacaxi\" e exiba o resultado;\n",
        "* remova o elemento \"banana\" e exiba o resultado;\n",
        "* faça a união do set `frutas` com o set `vermelhas = {\"morango\", \"cereja\", \"amora\"}`, guarde em `frutas` e exiba o resultado;\n",
        "* exiba a interseção do conjunto `frutas` com o conjunto `frutas2 = {\"banana\", \"pera\", \"morango\"}`."
      ],
      "metadata": {
        "id": "POy_ymRgzlR3"
      }
    },
    {
      "cell_type": "code",
      "source": [
        "frutas={\"maçã\",\"banana\",\"laranja\",\"uva\"}\n",
        "frutas1=frutas.copy()\n",
        "print(\"Conjunto frutas=\",frutas)\n",
        "frutas.update(\"abacaxi\") #Ao usar update() com uma string, o Python itera sobre cada caractere da string: 'a', 'b', 'a', 'c', 'a', 'x', 'i'\n",
        "print(\"Conjunto frutas=\",frutas)\n",
        "print(\"Conjuntos frutas1: \",frutas1)\n",
        "frutas1.add(\"abacaxi\") #adiciona abacaxi\n",
        "print(\"frutas1 adicionado de abacaxi\", frutas1)\n",
        "frutas = frutas1\n",
        "print(\"frutas corrigido =\",frutas) #retoma o set frutas original\n",
        "frutas.remove(\"banana\") #remove banana de frutas\n",
        "print(\"frutas =\", frutas)\n",
        "vermelhas = {\"morango\", \"cereja\", \"amora\"}\n",
        "frutas.update(vermelhas)\n",
        "print(\"frutas= \",frutas)\n",
        "A = {\"a\",\"b\",\"c\"}\n",
        "B = frutas.union(A) # o método union() retorna um conjunto.\n",
        "print(\"B = \",B)\n",
        "frutas2 = set((\"banana\",\"pera\",\"morango\"))\n",
        "print(frutas.intersection(frutas2))"
      ],
      "metadata": {
        "colab": {
          "base_uri": "https://localhost:8080/"
        },
        "id": "KfySMQGBZzjA",
        "outputId": "738574eb-008a-4dfd-a3e0-a94dfc9ed579"
      },
      "execution_count": null,
      "outputs": [
        {
          "output_type": "stream",
          "name": "stdout",
          "text": [
            "Conjunto frutas= {'maçã', 'uva', 'banana', 'laranja'}\n",
            "Conjunto frutas= {'maçã', 'i', 'b', 'c', 'banana', 'x', 'uva', 'a', 'laranja'}\n",
            "Conjuntos frutas1:  {'maçã', 'uva', 'banana', 'laranja'}\n",
            "frutas1 adicionado de abacaxi {'maçã', 'banana', 'abacaxi', 'uva', 'laranja'}\n",
            "frutas corrigido = {'maçã', 'banana', 'abacaxi', 'uva', 'laranja'}\n",
            "frutas = {'maçã', 'abacaxi', 'uva', 'laranja'}\n",
            "frutas=  {'cereja', 'morango', 'maçã', 'abacaxi', 'uva', 'laranja', 'amora'}\n",
            "B =  {'a', 'cereja', 'morango', 'maçã', 'b', 'c', 'abacaxi', 'uva', 'laranja', 'amora'}\n",
            "{'morango'}\n"
          ]
        }
      ]
    },
    {
      "cell_type": "markdown",
      "source": [],
      "metadata": {
        "id": "FiKYh9bJfp5e"
      }
    },
    {
      "cell_type": "markdown",
      "source": [
        "Os **dicionários** (*dict*) são coleções de (*chave*, *valor*) que são ordenadas e mutáveis. Não permite duplicações de suas chaves. Temos então as seguintes propriedades para a classe `dict`:\n",
        "\n",
        "* **ordenadas** -- os elementos mantém a ordem de inclusão (*a partir da versão 3.7 do Python*).\n",
        "\n",
        "* **elementos podem ser alterados** -- o valor dos elementos podem ter seus valores alterados.\n",
        "\n",
        "* **não permite duplicação das chaves** -- as chaves não podem ser repetidas."
      ],
      "metadata": {
        "id": "XbyqxTOZxh2-"
      }
    },
    {
      "cell_type": "markdown",
      "source": [],
      "metadata": {
        "id": "8Heh4tgkf_Om"
      }
    },
    {
      "cell_type": "markdown",
      "source": [
        "Os **dicionários** são criados usando `{}` informando pares do tipo `chave: valor`; também podem ser criados com `dict(chave=\"valor\")`:"
      ],
      "metadata": {
        "id": "65TKIvwgjGp4"
      }
    },
    {
      "cell_type": "code",
      "source": [
        "#os dicionários são criados com { } assim como os sets\n",
        "v1 = {\"name\" : \"R\", \"version\" : 2.7, \"name\" : \"Python\"}\n",
        "carro_1 = dict(marca = \"Ford\", modelo = \"Mustang\", ano = 1967) #chave=marca, valor=\"Ford\"; chave = modelo, valor=\"Mustang\"; chave=ano, valor=1967\n",
        "carro_2 = dict(marca = \"Toyota\", modelo = \"Corolla\", ano = 2022)\n",
        "x = dict.fromkeys((\"k1\", \"k2\", \"k3\"), 0) #O método fromkeys() é chamado no dicionário vazio, passando a tupla de chaves (\"k1\",\"k2\",\"k3)\n",
        "# - lembrando que a tupla é definida entre parêntesese - e o valor 0 como argumentos (valores) das chaves\n",
        "#outra maneira de criar um dicionário utilizando tuplas para as chaves e para os valores\n",
        "chave = (\"k1\",\"k2\",\"k3\")\n",
        "valores = (1,2,3)\n",
        "dicionario = {chave: valor for chave, valor in zip(chave, valores)}#{chave:valor...} vai montar o dicionário ao\n",
        "#agregar, a cada iteração do 'for', para cada par (chave, valor), as tuplas geradas por zip() a partir dos dados contidos\n",
        "# nas tuplas 'chave' e 'valores'\n",
        "print(dicionario)\n",
        "car1 = dict(marca = \"Ford\", modelo = \"Mustang\", ano = 1967)\n",
        "car2 = dict(marca = \"Toyota\", modelo = \"Corolla\", ano = 2022)\n",
        "car2.clear()               #limpa o dicionário\n",
        "car2 = car1.copy()         #copia dicionário car1 para car2\n",
        "print(car1.get(\"modelo\"))  #retorna o valor da chave 'modelo'\n",
        "print(dicionario.items())\n",
        "print(type(dicionario.items()))\n",
        "print(dicionario.keys())\n",
        "print(\"car1 =\", car1)\n",
        "print(car1.pop(\"modelo\")) #remove o item com a chave 'modelo'\n",
        "print(\"car1 =\", car1)\n",
        "print(car1.popitem())     #remove o último elemento do dicionário\n",
        "print(car1)"
      ],
      "metadata": {
        "colab": {
          "base_uri": "https://localhost:8080/"
        },
        "id": "uGw8-xV9gqks",
        "outputId": "f8a55125-ddb4-4b41-f9bb-44bb305ef03f"
      },
      "execution_count": null,
      "outputs": [
        {
          "output_type": "stream",
          "name": "stdout",
          "text": [
            "{'k1': 1, 'k2': 2, 'k3': 3}\n",
            "Mustang\n",
            "dict_items([('k1', 1), ('k2', 2), ('k3', 3)])\n",
            "<class 'dict_items'>\n",
            "dict_keys(['k1', 'k2', 'k3'])\n",
            "car1 = {'marca': 'Ford', 'modelo': 'Mustang', 'ano': 1967}\n",
            "Mustang\n",
            "car1 = {'marca': 'Ford', 'ano': 1967}\n",
            "('ano', 1967)\n",
            "{'marca': 'Ford'}\n"
          ]
        }
      ]
    },
    {
      "cell_type": "code",
      "source": [
        "car2 = dict(marca = \"Toyota\", modelo = \"Corolla\", ano = 2022)\n",
        "print(car2.setdefault(\"ano\",2020))   #se a chave existe, retorna o valor da chave\n",
        "print(car2)\n",
        "print(car2.setdefault(\"cor\",\"azul\")) #se a chave não existe, a insere no dicionário\n",
        "print(car2)\n",
        "car2.update({\"modelo\": \"Bronco\"})    #a função update() exige {}\n",
        "print(car2)"
      ],
      "metadata": {
        "colab": {
          "base_uri": "https://localhost:8080/"
        },
        "id": "MDP4EzimtItI",
        "outputId": "2ca78430-39d8-40b7-fbdc-fc06779bff0d"
      },
      "execution_count": null,
      "outputs": [
        {
          "output_type": "stream",
          "name": "stdout",
          "text": [
            "2022\n",
            "{'marca': 'Toyota', 'modelo': 'Corolla', 'ano': 2022}\n",
            "azul\n",
            "{'marca': 'Toyota', 'modelo': 'Corolla', 'ano': 2022, 'cor': 'azul'}\n",
            "{'marca': 'Toyota', 'modelo': 'Bronco', 'ano': 2022, 'cor': 'azul'}\n"
          ]
        }
      ]
    },
    {
      "cell_type": "markdown",
      "source": [],
      "metadata": {
        "id": "xXsUXKK_vx6r"
      }
    },
    {
      "cell_type": "markdown",
      "source": [
        "### Exercício 4: Operações com dict\n",
        "\n",
        "Crie um dicionário chamado `aluno` com as chaves `\"nome\", \"idade\"` e `\"nota\"`, e os respectivos valores `\"Ana\"`, `20` e `8.5`. Então:\n",
        "\n",
        "* exiba o dicionário completo;\n",
        "* exiba apenas a nota;\n",
        "* adicione uma nova chave `curso` com o valor `matematica` e exiba o dicionário autalizado;\n",
        "* altera a `idade` para `21` e exiba o dicionário atualizado;\n",
        "* remova a chave `nota` e exiba o dicionário atualizado;\n",
        "* inclua a chave `notas` com os valores `[8.5, 9.0]`  e exiba o dicionário autalizado."
      ],
      "metadata": {
        "id": "QZTnQUdUka2B"
      }
    },
    {
      "cell_type": "code",
      "source": [
        "aluno = {\"nome\":\"Ana\", \"idade\" : 20, \"nota\" : 8.5} #ao criar o dicionário com chaves, as chaves precisam ser cercadas com apóstrofos e é preciso usar dois pontos :\n",
        "print (\"aluno = \", aluno)\n",
        "aluno1 = dict(nome = \"Ana\", idade = 20, nota = 8.5)#com dict(), as chaves apenas recebem seus nomes e os valores, se strings, com apóstrofos\n",
        "print (\"aluno1 = \", aluno1)\n",
        "print(\"Nota do aluno =\",aluno.get(\"nota\"))         #get() retorna o valor da chave indicada\n",
        "aluno.setdefault(\"curso\",\"matemática\")             #setdefault() requer chave e valor entre aspas e separadas por vírgula\n",
        "print(aluno)\n",
        "#aluno.update({\"idade\":21})                        #há essa foram chata, com o uso de chaves e dois pontos\n",
        "aluno[\"idade\"]=21                                  #e essa daqui\n",
        "print(aluno)\n",
        "aluno.pop(\"nota\")\n",
        "print(aluno)\n",
        "aluno.update({\"notas\":[8.5,9.0]})                  #jeito chato\n",
        "aluno[\"notas2\"]=[7.5,8.5]                          #jeito simpático\n",
        "print(aluno)"
      ],
      "metadata": {
        "colab": {
          "base_uri": "https://localhost:8080/"
        },
        "id": "e11l7j6lvzBg",
        "outputId": "51dd0e55-55b9-4375-c7ac-db744cad820b"
      },
      "execution_count": null,
      "outputs": [
        {
          "output_type": "stream",
          "name": "stdout",
          "text": [
            "aluno =  {'nome': 'Ana', 'idade': 20, 'nota': 8.5}\n",
            "aluno1 =  {'nome': 'Ana', 'idade': 20, 'nota': 8.5}\n",
            "Nota do aluno = 8.5\n",
            "{'nome': 'Ana', 'idade': 20, 'nota': 8.5, 'curso': 'matemática'}\n",
            "{'nome': 'Ana', 'idade': 21, 'nota': 8.5, 'curso': 'matemática'}\n",
            "{'nome': 'Ana', 'idade': 21, 'curso': 'matemática'}\n",
            "{'nome': 'Ana', 'idade': 21, 'curso': 'matemática', 'notas': [8.5, 9.0], 'notas2': [7.5, 8.5]}\n"
          ]
        }
      ]
    },
    {
      "cell_type": "markdown",
      "source": [],
      "metadata": {
        "id": "G9XduKFM3RcU"
      }
    },
    {
      "cell_type": "markdown",
      "source": [
        "As **sequências** (range) são estruturas utilizadas principalmente para a construção de índices ou loopings. Essas sequências são criadas utilizando a seguinte função:\n",
        "\n",
        "`range(start, stop, step)`.\n",
        "\n",
        "Veja o exemplo:"
      ],
      "metadata": {
        "id": "hdEQQTq8x7tk"
      }
    },
    {
      "cell_type": "markdown",
      "source": [],
      "metadata": {
        "id": "LdJOTVK03ZIV"
      }
    },
    {
      "cell_type": "markdown",
      "source": [
        "### Exercício 5: utilizando range\n",
        "\n",
        "1. exiba o resultado do `range(0, 30, 2)`;\n",
        "2. exiba todos os números pares entre 50 e 70;\n",
        "3. exiba todos os números ímpares entre 50 e 70;\n",
        "4. exiba todos os números que são multiplos de 5 entre 17 e 69.\n",
        "\n"
      ],
      "metadata": {
        "id": "qC_1mqjPph-D"
      }
    },
    {
      "cell_type": "code",
      "source": [
        "x = range(0,30,2)\n",
        "print(x)\n",
        "#for i in x:\n",
        "#    print(i)\n",
        "#ou pode ser feito assim\n",
        "print(\"x: \",*x, sep=\" \")       #o asterisco desempacota os elementos de x e os passa para a função print() e sep=\" \" insere espaços entre cada valor.\n",
        "y=range(52,70,2)\n",
        "print(\"y: \",*y, sep = \" \")\n",
        "z = range (51, 70, 2)\n",
        "print(\"z: \", *z, sep= \" \")\n",
        "w = range (20,66,5)\n",
        "print(\"w: \", *w, sep = \" \")"
      ],
      "metadata": {
        "colab": {
          "base_uri": "https://localhost:8080/"
        },
        "id": "b9nXr1L03aaC",
        "outputId": "79849f4c-cf59-4514-c92d-95177290fbd5"
      },
      "execution_count": null,
      "outputs": [
        {
          "output_type": "stream",
          "name": "stdout",
          "text": [
            "range(0, 30, 2)\n",
            "x:  0 2 4 6 8 10 12 14 16 18 20 22 24 26 28\n",
            "y:  52 54 56 58 60 62 64 66 68\n",
            "z:  51 53 55 57 59 61 63 65 67 69\n",
            "w:  20 25 30 35 40 45 50 55 60 65\n"
          ]
        }
      ]
    },
    {
      "cell_type": "markdown",
      "source": [
        "parei em execução condicional"
      ],
      "metadata": {
        "id": "iCGkpD7e57Db"
      }
    }
  ]
}