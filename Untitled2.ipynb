{
  "nbformat": 4,
  "nbformat_minor": 0,
  "metadata": {
    "colab": {
      "provenance": [],
      "authorship_tag": "ABX9TyOCN441EoNi+lvIVe11M9oG",
      "include_colab_link": true
    },
    "kernelspec": {
      "name": "python3",
      "display_name": "Python 3"
    },
    "language_info": {
      "name": "python"
    }
  },
  "cells": [
    {
      "cell_type": "markdown",
      "metadata": {
        "id": "view-in-github",
        "colab_type": "text"
      },
      "source": [
        "<a href=\"https://colab.research.google.com/github/py241012463/CEE2/blob/Aula_27_11_2024/Untitled2.ipynb\" target=\"_parent\"><img src=\"https://colab.research.google.com/assets/colab-badge.svg\" alt=\"Open In Colab\"/></a>"
      ]
    },
    {
      "cell_type": "code",
      "execution_count": null,
      "metadata": {
        "id": "hP4H5PL6zdfR"
      },
      "outputs": [],
      "source": [
        "Exercício 6\n",
        "Considere o seguinte DataFrame:\n",
        "\n",
        "dados = {\n",
        "    \"Região\": [\"Norte\", \"Norte\", \"Sul\", \"Sul\", \"Leste\", \"Leste\"],\n",
        "    \"Produto\": [\"Maçã\", \"Banana\", \"Maçã\", \"Banana\", \"Maçã\", \"Banana\"],\n",
        "    \"Vendas\": [120, 200, 150, 300, 250, 180],\n",
        "    \"Lucro\": [30, 50, 25, 70, 60, 40],\n",
        "    \"Desconto (%)\": [5, 10, 0, 15, 5, 10],\n",
        "}\n",
        "df = pd.DataFrame(dados)\n",
        "Então:\n",
        "\n",
        "Use DataFrame.agg() para calcular, para cada coluna numérica do DataFrame:\n",
        "\n",
        "A soma;\n",
        "A média;\n",
        "O valor máximo;\n",
        "Use DataFrame.transform() para criar uma nova coluna chamada Vendas Normalizadas, que:\n",
        "\n",
        "Subtraia a média das vendas de cada valor.\n",
        "Divida pelo desvio padrão das vendas.\n",
        "Dica: Aplique a normalização (fórmula:  z=(x−média)/std ) diretamente sobre a coluna Vendas."
      ]
    },
    {
      "cell_type": "code",
      "source": [
        "import pandas as pd\n",
        "import numpy as np\n",
        "dados = {\n",
        "    \"Região\": [\"Norte\", \"Norte\", \"Sul\", \"Sul\", \"Leste\", \"Leste\"],\n",
        "    \"Produto\": [\"Maçã\", \"Banana\", \"Maçã\", \"Banana\", \"Maçã\", \"Banana\"],\n",
        "    \"Vendas\": [120, 200, 150, 300, 250, 180],\n",
        "    \"Lucro\": [30, 50, 25, 70, 60, 40],\n",
        "    \"Desconto (%)\": [5, 10, 0, 15, 5, 10],\n",
        "}\n",
        "df = pd.DataFrame(dados)\n",
        "result = df[[\"Vendas\", \"Lucro\", \"Desconto (%)\"]].agg(['sum', 'mean','max'])\n",
        "print(\"\\nresult:\\n\", result)\n",
        "result = df.transform({'Vendas_norm':lambda x:x-x.mean()})\n"
      ],
      "metadata": {
        "colab": {
          "base_uri": "https://localhost:8080/"
        },
        "id": "ZvUrCndLzoIl",
        "outputId": "1795ebc0-da68-419e-c317-621dd907805a"
      },
      "execution_count": 8,
      "outputs": [
        {
          "output_type": "stream",
          "name": "stdout",
          "text": [
            "\n",
            "result:\n",
            "       Vendas       Lucro  Desconto (%)\n",
            "sum   1200.0  275.000000          45.0\n",
            "mean   200.0   45.833333           7.5\n",
            "max    300.0   70.000000          15.0\n"
          ]
        }
      ]
    }
  ]
}