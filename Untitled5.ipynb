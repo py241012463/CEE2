{
  "nbformat": 4,
  "nbformat_minor": 0,
  "metadata": {
    "colab": {
      "provenance": [],
      "authorship_tag": "ABX9TyMgulkpOsllQVqxG8E2XAyl",
      "include_colab_link": true
    },
    "kernelspec": {
      "name": "python3",
      "display_name": "Python 3"
    },
    "language_info": {
      "name": "python"
    }
  },
  "cells": [
    {
      "cell_type": "markdown",
      "metadata": {
        "id": "view-in-github",
        "colab_type": "text"
      },
      "source": [
        "<a href=\"https://colab.research.google.com/github/py241012463/CEE2/blob/Aula_13_01_2025/Untitled5.ipynb\" target=\"_parent\"><img src=\"https://colab.research.google.com/assets/colab-badge.svg\" alt=\"Open In Colab\"/></a>"
      ]
    },
    {
      "cell_type": "code",
      "source": [
        "# Cria o mapa base\n",
        "mapa = folium.Map(location=[-15.783373618522317, -47.89926620489086],\n",
        "                  zoom_start=10,\n",
        "                  width=800,\n",
        "                  height=500)\n",
        "\n",
        "# Criar o MarkerCluster\n",
        "marker_cluster = plugins.MarkerCluster().add_to(mapa)\n",
        "\n",
        "\n",
        "\n",
        "\n",
        "Palácio do Planalto: -15.798727165257297, -47.860688327145304\n",
        "Congresso Nacional: -15.798727165257297, -47.860688327145304\n",
        "Catedral de Brasília: -15.798727165257297, -47.860688327145304\n",
        "Museu Nacional da República: -15.798727165257297, -47.860688327145304"
      ],
      "metadata": {
        "id": "lzQSPwYR4Bzg"
      },
      "execution_count": null,
      "outputs": []
    },
    {
      "cell_type": "code",
      "source": [
        "# Cria o mapa base\n",
        "mapa = folium.Map(location=[-15.7801, -47.9292],\n",
        "                  zoom_start=10,\n",
        "                  width=800,\n",
        "                  height=500)\n",
        "-15.783373618522317, -47.89926620489086"
      ],
      "metadata": {
        "id": "F71H7jtX4aUD"
      },
      "execution_count": null,
      "outputs": []
    },
    {
      "cell_type": "markdown",
      "source": [],
      "metadata": {
        "id": "uDGpjO0i31ZY"
      }
    },
    {
      "cell_type": "markdown",
      "source": [
        "## Exercício 1\n",
        "\n",
        "Crie um mapa com as seguintes características:\n",
        "\n",
        "1. O mapa deve ser centrado no Estádio Mané Garrincha.\n",
        "\n",
        "2. Inclua marcadores para pelo menos 4 pontos turísticos de Brasília:\n",
        "  * Congresso Nacional;\n",
        "  * Catedral de Brasília;\n",
        "  * Palácio do Planalto: [ -15.7993, -47.8608 ];\n",
        "  * Museu Nacional da República: [ -15.7933, -47.8847 ];\n",
        "\n",
        "  Adicione pop-ups e tooltips para cada marcador explicando brevemente o local.\n",
        "\n",
        "3. Adicione um MiniMap ao canto inferior direito para ajudar na navegação.\n",
        "\n",
        "4. Insira a funcionalidade para medir distâncias e áreas no mapa, com as unidades principais em metros e hectares.\n",
        "\n",
        "5. Adicione pelo menos 3 camadas de visualização ao mapa (consulte: Leaflet Providers)."
      ],
      "metadata": {
        "id": "cShMccJTqne7"
      }
    }
  ]
}